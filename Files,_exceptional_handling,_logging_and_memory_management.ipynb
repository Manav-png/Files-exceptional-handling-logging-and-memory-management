{
  "nbformat": 4,
  "nbformat_minor": 0,
  "metadata": {
    "colab": {
      "provenance": []
    },
    "kernelspec": {
      "name": "python3",
      "display_name": "Python 3"
    },
    "language_info": {
      "name": "python"
    }
  },
  "cells": [
    {
      "cell_type": "markdown",
      "source": [
        "# **Files, exceptional handling, logging and memory management Questions**\n",
        "\n",
        "---\n",
        "\n",
        "### 1) What is the difference between interpreted and compiled languages?\n",
        "\n",
        "->\n",
        "    \n",
        "    Interpreted Languages\n",
        "* The source code is translated line by line at runtime by an interpreter.\n",
        "* No separate compilation step; the program is executed directly.\n",
        "\n",
        "***Pros:***\n",
        "\n",
        "Easier debugging (error messages appear immediately)\n",
        "\n",
        "More flexible and portable\n",
        "\n",
        "***Cons:***\n",
        "\n",
        "Slower execution since it translates at runtime\n",
        "\n",
        "Higher memory usage\n",
        "\n",
        "        Compiled Languages\n",
        "* The source code is translated into machine code before execution using a compiler.\n",
        "* This machine code is specific to the target system and runs directly without further translation.\n",
        "\n",
        "***Pros:***\n",
        "\n",
        "Faster execution since it's already translated\n",
        "\n",
        "More optimized for performance\n",
        "\n",
        "***Cons:***\n",
        "\n",
        "Slower development cycle (compile every time after changes)\n",
        "\n",
        "Platform dependency (may require recompilation for different OS)\n",
        "\n",
        "\n",
        "  ---\n",
        "\n",
        "###2) What is exception handling in Python?\n",
        "\n",
        "->\n",
        "\n",
        "* Exception handling in Python is a way to manage errors that occur during program execution, preventing crashes.\n",
        "* It uses `try` to run code that might cause an error, `except` to handle specific errors, `else` to execute code if no error occurs, and `finally` to run code regardless of whether an error happened or not.\n",
        "* This helps make programs more robust and user-friendly.\n",
        "\n",
        "---\n",
        "\n",
        "###3) What is the purpose of the finally block in exception handling?\n",
        "\n",
        "->\n",
        "\n",
        "* The `finally` block in exception handling is used to ensure that certain code runs regardless of whether an exception occurs or not.\n",
        "* It is typically used for cleanup operations like closing files, releasing resources, or resetting variables.\n",
        "* Even if an error occurs in the `try` block or is caught in the `except` block, the code inside `finally` will always execute, making programs more reliable and preventing resource leaks.\n",
        "\n",
        "---\n",
        "\n",
        "###4)  What is logging in Python?\n",
        "\n",
        "->\n",
        "\n",
        "* Logging in Python is a method for tracking events during program execution, helping with debugging and monitoring.\n",
        "* The `logging` module allows developers to record messages at different levels such as **DEBUG, INFO, WARNING, ERROR,** and **CRITICAL**.\n",
        "* Unlike `print()`, logging provides more control over message formatting, storage, and filtering.\n",
        "* It helps in identifying issues, analyzing program behavior, and maintaining logs for future reference.\n",
        "\n",
        "---\n",
        "\n",
        "###5) What is the significance of the __del__ method in Python?\n",
        "\n",
        "->\n",
        "\n",
        "* The `__del__` method in Python is a special destructor method that is automatically called when an object is about to be destroyed.\n",
        "* It is typically used for cleanup tasks like closing files, releasing memory, or disconnecting from databases.\n",
        "* However, since Python's garbage collector manages memory automatically, relying on `__del__` is generally discouraged, especially when dealing with circular references, as it can lead to unpredictable behavior.\n",
        "\n",
        "---\n",
        "\n",
        "###6) What is the difference between import and from ... import in Python?\n",
        "\n",
        "->\n",
        "- **`import module_name`** imports the entire module, requiring the module name to access its functions.  \n",
        "- **`from module_name import function_name`** imports specific functions or attributes, allowing direct use without the module name.  \n",
        "- `import` helps avoid name conflicts and keeps the code organized.  \n",
        "- `from ... import` makes the code shorter but can lead to conflicts if multiple modules have functions with the same name.\n",
        "\n",
        "---\n",
        "\n",
        "###7)  How can you handle multiple exceptions in Python?\n",
        "\n",
        "->\n",
        "You can handle multiple exceptions in Python using the following methods:  \n",
        "\n",
        "- **Multiple `except` blocks**: Handle different exceptions separately for better control.  \n",
        "- **Single `except` block with a tuple**: Catch multiple exceptions together in one block.  \n",
        "- **Generic `except Exception` block**: Catches all exceptions but should be used carefully to avoid hiding unexpected errors.  \n",
        "\n",
        "These methods help ensure that errors are handled properly, preventing program crashes and improving reliability.\n",
        "\n",
        "---\n",
        "\n",
        "###8) What is the purpose of the with statement when handling files in Python?\n",
        "\n",
        "->\n",
        "\n",
        "The `with` statement in Python is used for handling files efficiently by automatically managing resource cleanup. It ensures that the file is properly closed after its block of code is executed, even if an exception occurs. This eliminates the need to manually call `close()`, reducing the risk of resource leaks.  \n",
        "\n",
        "### **Advantages of `with` statement:**  \n",
        "- Ensures proper file closure, preventing memory leaks.  \n",
        "- Makes code cleaner and more readable.  \n",
        "- Automatically handles exceptions related to file operations.\n",
        "\n",
        "\n",
        "---\n",
        "\n",
        "###9)  What is the difference between multithreading and multiprocessing?\n",
        "\n",
        "->\n",
        "\n",
        "### **Difference Between Multithreading and Multiprocessing**  \n",
        "\n",
        "| Feature          | **Multithreading** | **Multiprocessing** |\n",
        "|-----------------|------------------|------------------|\n",
        "| **Definition**  | Runs multiple threads within a single process. | Runs multiple processes, each with its own memory space. |\n",
        "| **Memory Usage** | Threads share the same memory space. | Each process has its own memory space. |\n",
        "| **Speed** | Faster for I/O-bound tasks (e.g., file operations, network requests). | Faster for CPU-bound tasks (e.g., heavy computations, data processing). |\n",
        "| **Parallel Execution** | Limited by the Global Interpreter Lock (GIL) in Python, allowing only one thread to execute Python bytecode at a time. | Runs processes in true parallel execution, bypassing GIL limitations. |\n",
        "| **Use Case** | Best for tasks involving waiting time, like web scraping, downloading files, or database queries. | Best for CPU-intensive tasks like image processing, mathematical computations, or machine learning. |\n",
        "| **Example Modules** | `threading` | `multiprocessing` |\n",
        "\n",
        "---\n",
        "\n",
        "###10) What are the advantages of using logging in a program?\n",
        "\n",
        "->\n",
        "\n",
        "### **Advantages of Using Logging in a Program**  \n",
        "\n",
        "- **Debugging and Troubleshooting**: Helps identify and fix errors by tracking events.  \n",
        "- **Error Tracking**: Provides detailed logs of failures, making it easier to diagnose issues.  \n",
        "- **Better Monitoring**: Allows real-time tracking of application performance and behavior.  \n",
        "- **Customizable Log Levels**: Supports different levels like **DEBUG, INFO, WARNING, ERROR,** and **CRITICAL** for better organization.  \n",
        "- **Persistent Record Keeping**: Stores logs in files for future reference and auditing.  \n",
        "- **Improved Maintenance**: Helps developers understand system behavior over time.  \n",
        "- **Thread and Process Safety**: Works well in multi-threaded and multi-process environments.  \n",
        "\n",
        "---\n",
        "\n",
        "###11) What is memory management in Python?\n",
        "\n",
        "->\n",
        "\n",
        "### **Memory Management in Python**  \n",
        "\n",
        "Memory management in Python is handled automatically by the **Python Memory Manager**, which allocates and deallocates memory as needed. It includes:  \n",
        "\n",
        "- **Automatic Memory Allocation**: Python assigns memory to variables, objects, and data structures dynamically.  \n",
        "- **Garbage Collection**: The built-in **garbage collector** (`gc` module) automatically removes unused objects to free up memory.  \n",
        "- **Reference Counting**: Python tracks the number of references to an object, and when it reaches zero, the object is deleted.  \n",
        "- **Heap Memory Management**: Python objects and data structures are stored in a private heap, managed internally.  \n",
        "- **Memory Optimization**: Features like **pools, caching, and object reuse** (e.g., small integers and strings) help improve efficiency.  \n",
        "\n",
        "---\n",
        "\n",
        "###12)  What are the basic steps involved in exception handling in Python?\n",
        "\n",
        "->\n",
        "\n",
        "### **Basic Steps in Exception Handling in Python**  \n",
        "\n",
        "1. **Try Block (`try`)**: Place the code that may cause an exception inside a `try` block.  \n",
        "2. **Except Block (`except`)**: Catch and handle specific exceptions to prevent crashes.  \n",
        "3. **Else Block (`else`)** *(Optional)*: Executes only if no exception occurs in the `try` block.  \n",
        "4. **Finally Block (`finally`)** *(Optional)*: Executes code regardless of whether an exception occurred, usually for cleanup tasks.  \n",
        "\n",
        "---\n",
        "\n",
        "###13) Why is memory management important in Python?\n",
        "\n",
        "->\n",
        "### **Importance of Memory Management in Python**  \n",
        "\n",
        "1. **Efficient Resource Utilization** – Prevents excessive memory usage, ensuring optimal performance.  \n",
        "2. **Automatic Garbage Collection** – Frees unused memory, reducing the risk of memory leaks.  \n",
        "3. **Improved Application Stability** – Prevents crashes caused by memory overflow or inefficient allocation.  \n",
        "4. **Performance Optimization** – Features like object pooling and caching enhance execution speed.  \n",
        "5. **Simplifies Development** – Python’s built-in memory management reduces the need for manual memory handling.  \n",
        "\n",
        "---\n",
        "\n",
        "###14)  What is the role of try and except in exception handling?\n",
        "\n",
        "->\n",
        "\n",
        "### **Role of `try` and `except` in Exception Handling**  \n",
        "\n",
        "- **`try` Block**: Contains the code that might cause an exception, allowing potential errors to be detected.  \n",
        "- **`except` Block**: Catches and handles specific exceptions, preventing program crashes and enabling error recovery.  \n",
        "\n",
        "---\n",
        "\n",
        "###15) How does Python's garbage collection system work?\n",
        "\n",
        "->\n",
        "\n",
        "Python's garbage collection system automatically manages memory by freeing unused objects. It works through:\n",
        "\n",
        "* Reference Counting – Each object has a reference count, and when it reaches zero, the object is deleted.\n",
        "* Garbage Collector (gc Module) – Detects and removes objects with circular references that reference each other but are no longer needed.\n",
        "* Generational Collection – Objects are divided into three generations, and older objects (which survive multiple collections) are checked less frequently to improve efficiency.\n",
        "\n",
        "---\n",
        "\n",
        "###16) What is the purpose of the else block in exception handling?\n",
        "\n",
        "->\n",
        "\n",
        "The else block in exception handling is used to execute code only if no exceptions occur in the try block. It helps separate error-prone code from the normal execution flow, improving code readability and organization.\n",
        "\n",
        "---\n",
        "\n",
        "###17)  What are the common logging levels in Python?\n",
        "\n",
        "->\n",
        "\n",
        "Python provides five standard logging levels to categorize log messages based on their severity:\n",
        "\n",
        "* DEBUG (10) – Detailed information for diagnosing problems, used during development.\n",
        "* INFO (20) – General messages indicating normal program execution.\n",
        "* WARNING (30) – Indicates potential issues that do not stop the program but may need attention.\n",
        "* ERROR (40) – Reports serious problems that prevent part of the program from running.\n",
        "* CRITICAL (50) – Indicates severe errors that may cause the program to stop completely.\n",
        "\n",
        "---\n",
        "###18) What is the difference between os.fork() and multiprocessing in Python?\n",
        "\n",
        "->\n",
        "\n",
        "    os.fork()\n",
        "\n",
        "* Creates a new child process by duplicating the parent process.\n",
        "* Works only on Unix-based systems (not available on Windows).\n",
        "* Shares memory space, which can lead to unintended side effects.\n",
        "* Requires manual handling of inter-process communication.\n",
        "\n",
        "      \n",
        "      Multiprocessing Module\n",
        "\n",
        "* Provides a cross-platform way to create and manage multiple processes.\n",
        "* Each process runs independently with its own memory space, avoiding conflicts.\n",
        "* Supports process synchronization, communication, and pools for parallel execution.\n",
        "* More user-friendly and recommended for CPU-bound tasks.\n",
        "\n",
        "  \n",
        "    Key Difference:\n",
        "os.fork() is a low-level function for creating processes on Unix, while multiprocessing is a higher-level module that works across different platforms and provides better process management.\n",
        "\n",
        "\n",
        "---\n",
        "\n",
        "###19)  What is the importance of closing a file in Python?\n",
        "\n",
        "->\n",
        "\n",
        "* Releases System Resources – Frees up memory and file handles, preventing resource leaks.\n",
        "* Ensures Data Integrity – Flushes any remaining data from the buffer to the file, avoiding data loss.\n",
        "* Prevents File Corruption – Ensures that files are properly saved and not left in an unstable state.\n",
        "* Allows Other Programs to Access the File – Prevents file locking issues, especially in multi-user environments.\n",
        "* Good Programming Practice – Promotes efficient resource management and cleaner code.\n",
        "\n",
        "---\n",
        "\n",
        "###20)  What is the difference between file.read() and file.readline() in Python?\n",
        "\n",
        "->\n",
        "\n",
        "* The `file.read()` method reads the entire content of a file at once and returns it as a single string, making it suitable for small files but memory-intensive for large ones.\n",
        "* In contrast, `file.readline()` reads only one line at a time, returning it as a string, which is more efficient for processing large files line by line.\n",
        "* Choosing between them depends on whether you need the whole file content at once or prefer a memory-efficient approach for handling large files.\n",
        "\n",
        "---\n",
        "\n",
        "###21)  What is the logging module in Python used for?\n",
        "\n",
        "->\n",
        "\n",
        "* The **logging** module in Python is used for recording messages about a program’s execution, helping with debugging, monitoring, and error tracking.\n",
        "* It allows developers to log messages at different levels (**DEBUG, INFO, WARNING, ERROR, and CRITICAL**) and store them in various formats, such as console output or log files.\n",
        "* Unlike `print()`, logging provides better control, filtering, and persistence of messages, making it essential for maintaining reliable and scalable applications.\n",
        "\n",
        "---\n",
        "\n",
        "###22) What is the os module in Python used for in file handling?\n",
        "\n",
        "->\n",
        "\n",
        "* The **`os`** module in Python is used for interacting with the operating system, providing functions for file and directory handling.\n",
        "* In file handling, it allows operations like **creating, deleting, renaming, checking existence, and navigating directories**.\n",
        "* It also helps in handling file paths, retrieving file metadata, and managing permissions.\n",
        "* By using the `os` module, programs can work with the file system in a platform-independent way, ensuring compatibility across different operating systems.\n",
        "\n",
        "---\n",
        "\n",
        "###23)  What are the challenges associated with memory management in Python?\n",
        "\n",
        "->\n",
        "\n",
        "***Challenges in Memory Management in Python***\n",
        "\n",
        "\n",
        "* **Garbage Collection Overhead** – Python’s automatic garbage collection can introduce performance overhead, especially in large applications.\n",
        "* **Reference Cycles** – Objects referencing each other may not be immediately freed, leading to memory leaks.\n",
        "* **Global Interpreter Lock (GIL)** – Limits true parallel execution, affecting memory efficiency in multi-threaded programs.\n",
        "* **High Memory Usage** – Python's dynamic typing and object overhead consume more memory compared to lower-level languages like C.\n",
        "* **Fragmentation** – Frequent memory allocation and deallocation can lead to fragmentation, reducing efficiency.\n",
        "* **Manual Memory Management Complexity** – Although automated, improper handling of large objects and unnecessary references can still cause memory bloat.\n",
        "\n",
        "---\n",
        "\n",
        "###24) How do you raise an exception manually in Python?\n",
        "\n",
        "->\n",
        "\n",
        "* In Python, exceptions can be manually raised using the `raise` keyword, allowing developers to enforce constraints and handle errors explicitly.\n",
        "* By specifying an exception type, such as `raise ValueError(\"Invalid input\")`, you can trigger an error when certain conditions are met.\n",
        "* This is useful for validating user inputs, handling unexpected situations, and debugging.\n",
        "* Additionally, custom exceptions can be created by inheriting from the `Exception` class, making error handling more structured and meaningful in complex applications.\n",
        "\n",
        "---\n",
        "\n",
        "###25) Why is it important to use multithreading in certain applications?\n",
        "\n",
        "->\n",
        "\n",
        "***Importance of Using Multithreading in Certain Applications:***\n",
        "\n",
        "**Improves Performance for I/O-bound Tasks** – Multithreading allows programs to run multiple tasks simultaneously, making it ideal for I/O-heavy operations like file handling, network requests, and database queries.\n",
        "\n",
        "**Enhances Responsiveness** – In GUI applications, multithreading prevents the interface from freezing while executing background tasks.\n",
        "\n",
        "**Efficient Resource Utilization** – Threads share the same memory space, reducing the overhead of creating multiple processes.\n",
        "\n",
        "**Faster Execution** – Helps execute independent tasks concurrently, improving speed in applications that require handling multiple operations at once.\n",
        "\n",
        "**Optimized Network and Disk Operations** – Useful for applications like web scraping, where multiple requests can be handled in parallel without blocking execution.\n",
        "\n",
        "----"
      ],
      "metadata": {
        "id": "19yLRJskg_4T"
      }
    },
    {
      "cell_type": "markdown",
      "source": [
        "# **Practical Questions**\n",
        "\n",
        "---\n",
        "\n",
        "###1)  How can you open a file for writing in Python and write a string to it\n",
        "\n",
        "->\n",
        "\n",
        "* In Python, a file can be opened for writing using the `open()` function with `\"w\"` mode, which creates a new file or overwrites an existing one.\n",
        "* The `write()` method is then used to add a string to the file.\n",
        "* Using a **context manager (`with` statement)** ensures the file is automatically closed after writing, preventing resource leaks.\n",
        "* This method is useful for storing text data efficiently while maintaining proper file handling practices.\n",
        "\n",
        "---\n",
        "\n"
      ],
      "metadata": {
        "id": "cz12H3l6wYIl"
      }
    },
    {
      "cell_type": "code",
      "source": [
        "#2) Write a Python program to read the contents of a file and print each line\n",
        "\n",
        "# Step 1: Create and write to a file\n",
        "filename = \"example.txt\"\n",
        "\n",
        "with open(filename, \"w\", encoding=\"utf-8\") as file:\n",
        "    file.write(\"Python is an amazing language.\\n\")\n",
        "    file.write(\"It is used for web development, data science, and automation.\\n\")\n",
        "    file.write(\"Multithreading helps in I/O-bound tasks.\\n\")\n",
        "\n",
        "print(f\"File '{filename}' created successfully!\")"
      ],
      "metadata": {
        "colab": {
          "base_uri": "https://localhost:8080/"
        },
        "id": "bFmYxgO3we3e",
        "outputId": "3a241625-ffda-4908-d63e-dfdceda02ded"
      },
      "execution_count": 2,
      "outputs": [
        {
          "output_type": "stream",
          "name": "stdout",
          "text": [
            "File 'example.txt' created successfully!\n"
          ]
        }
      ]
    },
    {
      "cell_type": "code",
      "source": [
        "# Step 2: Read and print each line from the file\n",
        "def read_file(filename):\n",
        "    try:\n",
        "        with open(filename, \"r\", encoding=\"utf-8\") as file:\n",
        "            for line in file:  # Reads file line by line\n",
        "                print(line.strip())  # Removes extra spaces and newlines\n",
        "    except FileNotFoundError:\n",
        "        print(\"Error: File not found.\")\n",
        "    except Exception as e:\n",
        "        print(f\"An error occurred: {e}\")\n",
        "\n",
        "print(\"\\nReading the file content:\")\n",
        "read_file(filename)\n"
      ],
      "metadata": {
        "colab": {
          "base_uri": "https://localhost:8080/"
        },
        "id": "VZSulAwTw0D4",
        "outputId": "5f46723b-f49f-49cf-c42e-e4c4b27d63c3"
      },
      "execution_count": 3,
      "outputs": [
        {
          "output_type": "stream",
          "name": "stdout",
          "text": [
            "\n",
            "Reading the file content:\n",
            "Python is an amazing language.\n",
            "It is used for web development, data science, and automation.\n",
            "Multithreading helps in I/O-bound tasks.\n"
          ]
        }
      ]
    },
    {
      "cell_type": "markdown",
      "source": [
        "---\n",
        "\n",
        "###3)  How would you handle a case where the file doesn't exist while trying to open it for reading?\n",
        "\n",
        "->\n",
        "\n",
        "* To handle a situation where a file does not exist while trying to open it for reading, a **`try-except` block** can be used to catch the `FileNotFoundError`. * This prevents the program from crashing and allows for a user-friendly message or alternative actions.\n",
        "* If the file is missing, the `except` block displays a message prompting the user to check the file name or path.\n",
        "* Additionally, a general `except Exception` block can be included to handle any other unexpected errors, ensuring smooth program execution.\n",
        "* This approach improves error handling and enhances the program’s reliability.\n",
        "\n",
        "---"
      ],
      "metadata": {
        "id": "_10uawIyw59E"
      }
    },
    {
      "cell_type": "code",
      "source": [
        "#4) Write a Python script that reads from one file and writes its content to another file\n",
        "\n",
        "def create_file(filename, content):\n",
        "    \"\"\"Creates a file and writes content to it.\"\"\"\n",
        "    with open(filename, \"w\", encoding=\"utf-8\") as file:\n",
        "        file.write(content)\n",
        "    print(f\"File '{filename}' created successfully!\")\n",
        "\n",
        "def copy_file(source_file, destination_file):\n",
        "    \"\"\"Reads content from one file and writes it to another.\"\"\"\n",
        "    try:\n",
        "        with open(source_file, \"r\", encoding=\"utf-8\") as src:\n",
        "            content = src.read()\n",
        "\n",
        "        with open(destination_file, \"w\", encoding=\"utf-8\") as dest:\n",
        "            dest.write(content)\n",
        "\n",
        "        print(f\"Content copied from '{source_file}' to '{destination_file}' successfully!\")\n",
        "\n",
        "    except FileNotFoundError:\n",
        "        print(f\"Error: The file '{source_file}' was not found.\")\n",
        "    except Exception as e:\n",
        "        print(f\"An unexpected error occurred: {e}\")\n",
        "\n",
        "# Step 1: Create a source file\n",
        "source_file = \"source.txt\"\n",
        "sample_content = \"\"\"Python is great for automation.\n",
        "File handling is an important feature in Python.\n",
        "This content will be copied to another file.\"\"\"\n",
        "create_file(source_file, sample_content)\n",
        "\n",
        "# Step 2: Copy content from source file to destination file\n",
        "destination_file = \"destination.txt\"\n",
        "copy_file(source_file, destination_file)\n"
      ],
      "metadata": {
        "colab": {
          "base_uri": "https://localhost:8080/"
        },
        "id": "q8WrUk68xN4n",
        "outputId": "f10028c7-1320-485c-8323-dcd7eb15104e"
      },
      "execution_count": 4,
      "outputs": [
        {
          "output_type": "stream",
          "name": "stdout",
          "text": [
            "File 'source.txt' created successfully!\n",
            "Content copied from 'source.txt' to 'destination.txt' successfully!\n"
          ]
        }
      ]
    },
    {
      "cell_type": "markdown",
      "source": [
        "---\n",
        "\n",
        "###5) How would you catch and handle division by zero error in Python?\n",
        "\n",
        "->\n",
        "\n",
        "* To catch and handle a **division by zero** error in Python, a **`try-except` block** is used to prevent program crashes.\n",
        "* The `try` block contains the division operation, while the `except ZeroDivisionError` block catches the error and displays a user-friendly message instead of stopping execution.\n",
        "* Additionally, a general `except Exception` block can handle any other unexpected errors. This approach ensures that the program continues running smoothly even when a division by zero occurs.\n",
        "\n",
        "---"
      ],
      "metadata": {
        "id": "UZzyXlOAxkWh"
      }
    },
    {
      "cell_type": "code",
      "source": [
        "#6) Write a Python program that logs an error message to a log file when a division by zero exception occurs\n",
        "\n",
        "import logging\n",
        "\n",
        "# Configure logging to write errors to a log file\n",
        "logging.basicConfig(filename=\"error.log\", level=logging.ERROR,\n",
        "                    format=\"%(asctime)s - %(levelname)s - %(message)s\")\n",
        "\n",
        "def safe_divide(a, b):\n",
        "    \"\"\"Performs division and logs an error if division by zero occurs.\"\"\"\n",
        "    try:\n",
        "        result = a / b\n",
        "        print(f\"Result: {result}\")\n",
        "    except ZeroDivisionError:\n",
        "        logging.error(\"Attempted division by zero.\")\n",
        "        print(\"Error: Division by zero is not allowed. Check the log file for details.\")\n",
        "    except Exception as e:\n",
        "        logging.error(f\"Unexpected error: {e}\")\n",
        "        print(\"An unexpected error occurred. Check the log file for details.\")\n",
        "\n",
        "# Example usage\n",
        "safe_divide(10, 0)  # This will trigger the logging of an error\n",
        "safe_divide(10, 2)  # This will execute normally\n"
      ],
      "metadata": {
        "colab": {
          "base_uri": "https://localhost:8080/"
        },
        "id": "Q59gh01RyBOw",
        "outputId": "f1c2655e-ea24-4a92-8913-54b90d73299d"
      },
      "execution_count": 5,
      "outputs": [
        {
          "output_type": "stream",
          "name": "stderr",
          "text": [
            "ERROR:root:Attempted division by zero.\n"
          ]
        },
        {
          "output_type": "stream",
          "name": "stdout",
          "text": [
            "Error: Division by zero is not allowed. Check the log file for details.\n",
            "Result: 5.0\n"
          ]
        }
      ]
    },
    {
      "cell_type": "markdown",
      "source": [
        "---\n",
        "\n",
        "###7) How do you log information at different levels (INFO, ERROR, WARNING) in Python using the logging module\n",
        "\n",
        "->\n",
        "\n",
        "* In Python, the `logging` module allows logging messages at different levels, such as **INFO, ERROR, and WARNING**, to categorize logs based on severity.\n",
        "* By configuring `logging.basicConfig()`, messages can be recorded in a log file with timestamps and severity levels.\n",
        "* The **DEBUG** level is used for troubleshooting, **INFO** logs general program events, **WARNING** highlights potential issues, **ERROR** indicates serious problems, and **CRITICAL** marks severe failures.\n",
        "* This approach helps in monitoring application behavior, debugging errors, and maintaining detailed logs for future analysis.\n",
        "\n",
        "---"
      ],
      "metadata": {
        "id": "hRr6i4oOyK0A"
      }
    },
    {
      "cell_type": "code",
      "source": [
        "#8) Write a program to handle a file opening error using exception handling\n",
        "\n",
        "def create_file(filename, content):\n",
        "    \"\"\"Creates a file and writes content to it.\"\"\"\n",
        "    with open(filename, \"w\", encoding=\"utf-8\") as file:\n",
        "        file.write(content)\n",
        "    print(f\"File '{filename}' created successfully!\")\n",
        "\n",
        "def open_file(filename):\n",
        "    \"\"\"Attempts to open a file and handles errors gracefully.\"\"\"\n",
        "    try:\n",
        "        with open(filename, \"r\", encoding=\"utf-8\") as file:\n",
        "            content = file.read()\n",
        "            print(\"\\nFile content:\\n\", content)\n",
        "    except FileNotFoundError:\n",
        "        print(f\"Error: The file '{filename}' was not found.\")\n",
        "    except PermissionError:\n",
        "        print(f\"Error: Permission denied for accessing '{filename}'.\")\n",
        "    except Exception as e:\n",
        "        print(f\"An unexpected error occurred: {e}\")\n",
        "\n",
        "# Step 1: Create a file and write content\n",
        "filename = \"example.txt\"\n",
        "sample_content = \"\"\"Python makes file handling easy.\n",
        "Exception handling prevents program crashes.\n",
        "Logging helps track errors efficiently.\"\"\"\n",
        "create_file(filename, sample_content)\n",
        "\n",
        "# Step 2: Read the file with exception handling\n",
        "open_file(filename)\n"
      ],
      "metadata": {
        "colab": {
          "base_uri": "https://localhost:8080/"
        },
        "id": "dxztO8hGzdlz",
        "outputId": "7853e0ef-be63-4a46-8e0e-a4850ce7cbd6"
      },
      "execution_count": 6,
      "outputs": [
        {
          "output_type": "stream",
          "name": "stdout",
          "text": [
            "File 'example.txt' created successfully!\n",
            "\n",
            "File content:\n",
            " Python makes file handling easy.\n",
            "Exception handling prevents program crashes.\n",
            "Logging helps track errors efficiently.\n"
          ]
        }
      ]
    },
    {
      "cell_type": "markdown",
      "source": [
        "---\n",
        "\n",
        "###9) How can you read a file line by line and store its content in a list in Python?\n",
        "\n",
        "->\n",
        "\n",
        "* In Python, a file can be read **line by line** and stored in a **list** using the `readlines()` method or a loop.\n",
        "* The `readlines()` method reads the entire file at once and returns a list where each element is a line, including newline characters.\n",
        "* Alternatively, looping over the file and using `.strip()` ensures **better memory efficiency** by reading one line at a time while removing extra spaces or newline characters.\n",
        "* This approach is useful for storing structured data like logs, configuration files, or CSV rows efficiently.\n",
        "\n",
        "---\n",
        "\n",
        "###10)  How can you append data to an existing file in Python?\n",
        "\n",
        "->\n",
        "\n",
        "* In Python, you can append data to an existing file using the **append mode (`\"a\"`)** with the `open()` function.\n",
        "* This allows new content to be added at the end of the file **without overwriting** its existing contents. Using a **context manager (`with open()`)**, you can write new data while ensuring the file is properly closed after the operation.\n",
        "* This method is commonly used for logging, updating reports, or continuously adding new information to a file while preserving previous data.\n",
        "\n",
        "---"
      ],
      "metadata": {
        "id": "KXp9fSQZ0RtA"
      }
    },
    {
      "cell_type": "code",
      "source": [
        "\"11) Write a Python program that uses a try-except block to handle an error when attempting to access a\"\n",
        "\"dictionary key that doesn't exist\"\n",
        "\n",
        "def get_value(dictionary, key):\n",
        "    \"\"\"Attempts to retrieve a value from a dictionary and handles KeyError.\"\"\"\n",
        "    try:\n",
        "        value = dictionary[key]  # Accessing the key\n",
        "        print(f\"Value: {value}\")\n",
        "    except KeyError:\n",
        "        print(f\"Error: The key '{key}' does not exist in the dictionary.\")\n",
        "\n",
        "# Example usage\n",
        "data = {\"name\": \"Alice\", \"age\": 25, \"city\": \"New York\"}\n",
        "get_value(data, \"name\")  # Valid key\n",
        "get_value(data, \"salary\")  # Non-existent key (triggers KeyError)\n"
      ],
      "metadata": {
        "colab": {
          "base_uri": "https://localhost:8080/"
        },
        "id": "0CtNDu7O031A",
        "outputId": "2945ae5b-79d2-4217-ac30-cd0cc14f3d4d"
      },
      "execution_count": 7,
      "outputs": [
        {
          "output_type": "stream",
          "name": "stdout",
          "text": [
            "Value: Alice\n",
            "Error: The key 'salary' does not exist in the dictionary.\n"
          ]
        }
      ]
    },
    {
      "cell_type": "code",
      "source": [
        "#12) Write a program that demonstrates using multiple except blocks to handle different types of exceptions\n",
        "\n",
        "def handle_exceptions(a, b):\n",
        "    \"\"\"Performs division and handles multiple exceptions.\"\"\"\n",
        "    try:\n",
        "        result = a / b  # May raise ZeroDivisionError\n",
        "        print(f\"Result: {result}\")\n",
        "\n",
        "        numbers = [1, 2, 3]\n",
        "        print(numbers[5])  # May raise IndexError\n",
        "\n",
        "    except ZeroDivisionError:\n",
        "        print(\"Error: Division by zero is not allowed.\")\n",
        "\n",
        "    except IndexError:\n",
        "        print(\"Error: List index is out of range.\")\n",
        "\n",
        "    except TypeError:\n",
        "        print(\"Error: Invalid data type used in the operation.\")\n",
        "\n",
        "    except Exception as e:  # Catches any other unexpected errors\n",
        "        print(f\"An unexpected error occurred: {e}\")\n",
        "\n",
        "# Example usage\n",
        "handle_exceptions(10, 0)  # Triggers ZeroDivisionError\n",
        "handle_exceptions(10, 2)  # Triggers IndexError\n",
        "handle_exceptions(\"ten\", 2)  # Triggers TypeError\n"
      ],
      "metadata": {
        "colab": {
          "base_uri": "https://localhost:8080/"
        },
        "id": "5_KJXxnv1Mj9",
        "outputId": "32119f49-7f29-4941-c849-391d1bde86ce"
      },
      "execution_count": 8,
      "outputs": [
        {
          "output_type": "stream",
          "name": "stdout",
          "text": [
            "Error: Division by zero is not allowed.\n",
            "Result: 5.0\n",
            "Error: List index is out of range.\n",
            "Error: Invalid data type used in the operation.\n"
          ]
        }
      ]
    },
    {
      "cell_type": "markdown",
      "source": [
        "---\n",
        "\n",
        "###13) How would you check if a file exists before attempting to read it in Python?\n",
        "\n",
        "->\n",
        "\n",
        "* To check if a file exists before attempting to read it in Python, you can use **`os.path.exists()`** or the **`pathlib` module**.\n",
        "* The `os.path.exists(filename)` method checks if the file is present before opening it, preventing a `FileNotFoundError`. Similarly, `pathlib.Path.exists()` provides a more modern and object-oriented way to verify file existence before reading.\n",
        "* Using these methods ensures smooth execution, prevents crashes, and allows for better error handling in file operations.\n",
        "\n",
        "---"
      ],
      "metadata": {
        "id": "CAP48wTP1c_J"
      }
    },
    {
      "cell_type": "code",
      "source": [
        "#14) Write a program that uses the logging module to log both informational and error messages\n",
        "\n",
        "import logging\n",
        "\n",
        "# Configure logging\n",
        "logging.basicConfig(filename=\"app.log\", level=logging.DEBUG,\n",
        "                    format=\"%(asctime)s - %(levelname)s - %(message)s\")\n",
        "\n",
        "def divide(a, b):\n",
        "    \"\"\"Performs division and logs both info and error messages.\"\"\"\n",
        "    try:\n",
        "        logging.info(f\"Attempting to divide {a} by {b}\")  # Log info message\n",
        "        result = a / b\n",
        "        logging.info(f\"Division successful: {a} / {b} = {result}\")  # Log success info\n",
        "        return result\n",
        "    except ZeroDivisionError:\n",
        "        logging.error(\"Error: Attempted division by zero\")  # Log error message\n",
        "        print(\"Error: Division by zero is not allowed.\")\n",
        "    except Exception as e:\n",
        "        logging.error(f\"Unexpected error: {e}\")  # Log unexpected errors\n",
        "        print(\"An unexpected error occurred.\")\n",
        "\n",
        "# Example usage\n",
        "divide(10, 2)  # Successful division (logs INFO)\n",
        "divide(10, 0)  # Error case (logs ERROR)\n",
        "\n",
        "print(\"Check 'app.log' for logged messages.\")\n"
      ],
      "metadata": {
        "colab": {
          "base_uri": "https://localhost:8080/"
        },
        "id": "PHLwiCNU2OCM",
        "outputId": "7b38c451-c83f-4117-9376-d6fd73144157"
      },
      "execution_count": 9,
      "outputs": [
        {
          "output_type": "stream",
          "name": "stderr",
          "text": [
            "ERROR:root:Error: Attempted division by zero\n"
          ]
        },
        {
          "output_type": "stream",
          "name": "stdout",
          "text": [
            "Error: Division by zero is not allowed.\n",
            "Check 'app.log' for logged messages.\n"
          ]
        }
      ]
    },
    {
      "cell_type": "code",
      "source": [
        "#15)  Write a Python program that prints the content of a file and handles the case when the file is empty\n",
        "\n",
        "import os\n",
        "\n",
        "def read_file(filename):\n",
        "    \"\"\"Reads and prints file content, handling empty file cases.\"\"\"\n",
        "    try:\n",
        "        if os.path.exists(filename):  # Check if file exists\n",
        "            if os.path.getsize(filename) == 0:  # Check if file is empty\n",
        "                print(f\"Error: The file '{filename}' is empty.\")\n",
        "                return\n",
        "\n",
        "            with open(filename, \"r\", encoding=\"utf-8\") as file:\n",
        "                content = file.read()\n",
        "                print(\"File Content:\\n\", content)\n",
        "        else:\n",
        "            print(f\"Error: The file '{filename}' does not exist.\")\n",
        "    except Exception as e:\n",
        "        print(f\"An unexpected error occurred: {e}\")\n",
        "\n",
        "# Example usage\n",
        "filename = \"example.txt\"  # Replace with your file name\n",
        "read_file(filename)\n"
      ],
      "metadata": {
        "colab": {
          "base_uri": "https://localhost:8080/"
        },
        "id": "moMQuJ0Y2Za4",
        "outputId": "f4a1dd0b-40ef-43f1-f972-b18e02480e4a"
      },
      "execution_count": 10,
      "outputs": [
        {
          "output_type": "stream",
          "name": "stdout",
          "text": [
            "File Content:\n",
            " Python makes file handling easy.\n",
            "Exception handling prevents program crashes.\n",
            "Logging helps track errors efficiently.\n"
          ]
        }
      ]
    },
    {
      "cell_type": "markdown",
      "source": [
        "---\n",
        "\n",
        "###16) Demonstrate how to use memory profiling to check the memory usage of a small program\n",
        "\n",
        "* To check the memory usage of a small Python program, you can use the **`memory_profiler`** module, which provides detailed insights into memory consumption.\n",
        "* First, install it using `pip install memory-profiler`.\n",
        "* Then, apply the `@profile` decorator to the function you want to monitor.\n",
        "* When the script is executed with `python -m memory_profiler script.py`, it tracks memory usage before and after the function runs, highlighting any memory-intensive operations.\n",
        "* This is useful for optimizing performance and detecting memory leaks in large applications.\n",
        "\n",
        "---"
      ],
      "metadata": {
        "id": "xe93L1g82ha7"
      }
    },
    {
      "cell_type": "code",
      "source": [
        "#17) Write a Python program to create and write a list of numbers to a file, one number per line\n",
        "\n",
        "def write_numbers_to_file(filename, numbers):\n",
        "    \"\"\"Writes a list of numbers to a file, one per line.\"\"\"\n",
        "    try:\n",
        "        with open(filename, \"w\", encoding=\"utf-8\") as file:\n",
        "            for number in numbers:\n",
        "                file.write(f\"{number}\\n\")  # Writing each number on a new line\n",
        "        print(f\"Numbers successfully written to '{filename}'.\")\n",
        "    except Exception as e:\n",
        "        print(f\"An error occurred: {e}\")\n",
        "\n",
        "# Example usage\n",
        "numbers_list = list(range(1, 11))  # Creating a list of numbers from 1 to 10\n",
        "filename = \"numbers.txt\"\n",
        "write_numbers_to_file(filename, numbers_list)\n"
      ],
      "metadata": {
        "colab": {
          "base_uri": "https://localhost:8080/"
        },
        "id": "E9Xvq-9j27rI",
        "outputId": "3f801893-a57f-41da-becd-1dd0c75ed066"
      },
      "execution_count": 11,
      "outputs": [
        {
          "output_type": "stream",
          "name": "stdout",
          "text": [
            "Numbers successfully written to 'numbers.txt'.\n"
          ]
        }
      ]
    },
    {
      "cell_type": "markdown",
      "source": [
        "----\n",
        "\n",
        "###18)  How would you implement a basic logging setup that logs to a file with rotation after 1MB?\n",
        "\n",
        "->\n",
        "\n",
        "* To implement a basic logging setup with log rotation after 1MB, you can use Python’s **`RotatingFileHandler`** from the `logging.handlers` module.\n",
        "* This ensures that when the log file reaches **1MB (`maxBytes=1_000_000`)**, it is automatically rotated, preventing excessive file growth.\n",
        "* The **`backupCount` parameter** controls how many old log files are retained, with older ones being deleted when the limit is reached.\n",
        "* By configuring `logging.basicConfig()` with `handlers=[RotatingFileHandler]`, logs are efficiently managed and stored in separate files such as `app.log`, `app.log.1`, `app.log.2`, etc.\n",
        "* This setup helps maintain an organized logging system without consuming excessive disk space.\n",
        "\n",
        "---"
      ],
      "metadata": {
        "id": "spoZVadH3CUX"
      }
    },
    {
      "cell_type": "code",
      "source": [
        "#19)  Write a program that handles both IndexError and KeyError using a try-except block\n",
        "\n",
        "def handle_exceptions():\n",
        "    \"\"\"Demonstrates handling of IndexError and KeyError separately.\"\"\"\n",
        "    numbers = [10, 20, 30]\n",
        "    data = {\"name\": \"Alice\", \"age\": 25}\n",
        "\n",
        "    # Handling IndexError\n",
        "    try:\n",
        "        print(\"Accessing index 5:\", numbers[5])  # Index out of range\n",
        "    except IndexError:\n",
        "        print(\"Error: List index out of range.\")\n",
        "\n",
        "    # Handling KeyError\n",
        "    try:\n",
        "        print(\"Accessing non-existent key:\", data[\"salary\"])  # Key does not exist\n",
        "    except KeyError:\n",
        "        print(\"Error: Dictionary key not found.\")\n",
        "\n",
        "# Run the function\n",
        "handle_exceptions()\n"
      ],
      "metadata": {
        "colab": {
          "base_uri": "https://localhost:8080/"
        },
        "id": "ykisjlOo3cmL",
        "outputId": "93a3aa3e-8a39-48e5-e9e0-f660bdfef7ac"
      },
      "execution_count": 14,
      "outputs": [
        {
          "output_type": "stream",
          "name": "stdout",
          "text": [
            "Error: List index out of range.\n",
            "Error: Dictionary key not found.\n"
          ]
        }
      ]
    },
    {
      "cell_type": "markdown",
      "source": [
        "\n",
        "\n",
        "\n",
        "\n",
        "\n",
        "---\n",
        "\n",
        "\n",
        "\n",
        "\n",
        "\n",
        "\n",
        "###20) How would you open a file and read its contents using a context manager in Python?\n",
        "\n",
        "->\n",
        "* To open and read a file using a context manager in Python, the `with` statement is used, ensuring that the file is automatically closed after use.\n",
        "* This prevents resource leaks and improves memory management.\n",
        "* By opening a file with `open(\"filename.txt\", \"r\") as file`, the contents can be read using `file.read()`, and the need for explicitly calling `close()` is eliminated.\n",
        "* This approach makes the code cleaner, more efficient, and safer, especially when handling large files or unexpected errors.\n",
        "\n",
        "---\n",
        "\n",
        "\n"
      ],
      "metadata": {
        "id": "M6YrC0hdp1Co"
      }
    },
    {
      "cell_type": "code",
      "source": [
        "#21) Write a Python program that reads a file and prints the number of occurrences of a specific word.\n",
        "\n",
        "filename = \"sample.txt\"  # Specify the file name\n",
        "\n",
        "# Open the file in write mode and add content\n",
        "with open(filename, \"w\", encoding=\"utf-8\") as file:\n",
        "    file.write(\"Python is amazing. Learning Python is fun!\\n\")\n",
        "    file.write(\"Python is used for web development, data science, and automation.\\n\")\n",
        "    file.write(\"Python is easy to interpret.\\n\")\n",
        "print(f\"File '{filename}' has been created successfully!\")\n"
      ],
      "metadata": {
        "colab": {
          "base_uri": "https://localhost:8080/"
        },
        "id": "KPPuY0jGPOjn",
        "outputId": "9871a309-07f0-491e-b2d5-6c237624ff35"
      },
      "execution_count": 4,
      "outputs": [
        {
          "output_type": "stream",
          "name": "stdout",
          "text": [
            "File 'sample.txt' has been created successfully!\n"
          ]
        }
      ]
    },
    {
      "cell_type": "code",
      "execution_count": 5,
      "metadata": {
        "colab": {
          "base_uri": "https://localhost:8080/"
        },
        "id": "f6n4sJL8g6Zn",
        "outputId": "b375242d-ab9c-46b6-8b88-1e203603be90"
      },
      "outputs": [
        {
          "output_type": "stream",
          "name": "stdout",
          "text": [
            "The word 'Python' appears 4 times in the file.\n"
          ]
        }
      ],
      "source": [
        "def count_word_occurrences(filename, word):\n",
        "    try:\n",
        "        with open(filename, \"r\", encoding=\"utf-8\") as file:\n",
        "            content = file.read().lower()  # Convert to lowercase for case-insensitive matching\n",
        "            word_count = content.split().count(word.lower())  # Count occurrences\n",
        "        print(f\"The word '{word}' appears {word_count} times in the file.\")\n",
        "    except FileNotFoundError:\n",
        "        print(\"Error: File not found.\")\n",
        "    except Exception as e:\n",
        "        print(f\"An error occurred: {e}\")\n",
        "\n",
        "# Example usage\n",
        "filename = \"sample.txt\"  # Replace with your file name\n",
        "word_to_count = \"Python\"  # Replace with your target word\n",
        "count_word_occurrences(filename, word_to_count)\n"
      ]
    },
    {
      "cell_type": "markdown",
      "source": [
        "---\n",
        "\n",
        "###22) How can you check if a file is empty before attempting to read its contents?\n",
        "\n",
        "->\n",
        "* To check if a file is empty before reading its contents, you can use `os.path.getsize()`, which returns the file size in bytes.\n",
        "* If the size is `0`, the file is empty. Another method is opening the file in read mode and checking if `file.read(1)` returns any content.\n",
        "* If it doesn’t, the file is empty. The `os.path.getsize()` method is more efficient as it doesn’t require opening the file, whereas reading the first character ensures compatibility even if file size retrieval isn’t available.\n",
        "* Both methods help prevent errors when attempting to read an empty file.\n",
        "\n",
        "---\n"
      ],
      "metadata": {
        "id": "dZyyWkbmPeU7"
      }
    },
    {
      "cell_type": "code",
      "source": [
        "#23)Write a Python program that writes to a log file when an error occurs during file handling\n",
        "\n",
        "import logging\n",
        "\n",
        "# Configure logging\n",
        "logging.basicConfig(filename=\"error.log\", level=logging.ERROR,\n",
        "                    format=\"%(asctime)s - %(levelname)s - %(message)s\")\n",
        "\n",
        "def read_file(filename):\n",
        "    try:\n",
        "        with open(filename, \"r\", encoding=\"utf-8\") as file:\n",
        "            return file.read()\n",
        "    except FileNotFoundError:\n",
        "        logging.error(f\"File '{filename}' not found.\")\n",
        "        print(\"Error: File not found. Check the log for details.\")\n",
        "    except PermissionError:\n",
        "        logging.error(f\"Permission denied for file '{filename}'.\")\n",
        "        print(\"Error: Permission denied. Check the log for details.\")\n",
        "    except Exception as e:\n",
        "        logging.error(f\"Unexpected error: {e}\")\n",
        "        print(\"An unexpected error occurred. Check the log for details.\")\n",
        "\n",
        "# Example usage\n",
        "filename = \"sample.txt\"  # Replace with your file name\n",
        "content = read_file(filename)\n",
        "if content:\n",
        "    print(content)\n"
      ],
      "metadata": {
        "colab": {
          "base_uri": "https://localhost:8080/"
        },
        "id": "v0yZpC_Hix5F",
        "outputId": "d634234e-afbb-49cb-96d2-53490ac2fd0d"
      },
      "execution_count": 6,
      "outputs": [
        {
          "output_type": "stream",
          "name": "stdout",
          "text": [
            "Python is amazing. Learning Python is fun!\n",
            "Python is used for web development, data science, and automation.\n",
            "Python is easy to interpret.\n",
            "\n"
          ]
        }
      ]
    },
    {
      "cell_type": "code",
      "source": [],
      "metadata": {
        "id": "mVz7dcrVTmY7"
      },
      "execution_count": null,
      "outputs": []
    }
  ]
}